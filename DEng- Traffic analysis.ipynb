{
 "cells": [
  {
   "cell_type": "code",
   "execution_count": 433,
   "metadata": {},
   "outputs": [],
   "source": [
    "import pandas as pd\n",
    "import numpy as np\n",
    "import time\n",
    "import datetime as dt\n",
    "import calendar\n",
    "import csv\n",
    "from collections import Counter\n",
    "import matplotlib.pyplot as plt\n",
    "import seaborn as sns"
   ]
  },
  {
   "cell_type": "markdown",
   "metadata": {},
   "source": [
    "# TASK 2\n",
    "# Part I.\n"
   ]
  },
  {
   "cell_type": "code",
   "execution_count": 434,
   "metadata": {},
   "outputs": [],
   "source": [
    "\"\"\"The first data preparation step is to load the dataset and store it in a dataframe\"\"\"\n",
    "df = pd.read_csv(\n",
    "    r\"C:\\Users\\Abdullah\\OneDrive\\Documents\\UoM\\Data engineering\\Datasets\\rawpvr_2018-02-01_28d_1083 TueFri.csv\")\n",
    "\n",
    "# Convert date column from text into datetime type\n",
    "df['Date']=pd.to_datetime(df['Date'])\n",
    "\"\"\"Converted the date which was in text format to datetime object to make it easier to work with and manipulate\n",
    "as the upcoming tasks need us to work with the dates and times.\"\"\"\n",
    "\n",
    "\"\"\"Data preparation step: Renaming the column headers so that its 1 continuous string\"\"\"\n",
    "#Renaming column headers to make it easier to work with\n",
    "df.rename(columns = {'Lane Name':'Lane_name','Direction Name':'Direction_name','Speed (mph)':'Speed_mph', \n",
    "                     'Headway (s)':'Headway_s','Gap (s)': 'Gap_s','Flag Text':'Flag_text'}, inplace = True)\n",
    "\n",
    "\n",
    "\n",
    "\"\"\"The 'Flags' and 'Flag Text' column had 0 or no values and we need it (Flags) to have a certain number 1-7 as\n",
    "it indicates the weekday and then we can easily fill out the 'Flag Text' column using datetime module methods. \n",
    "This is an example of data enrichment, as we're creating new fields/columns from existing data.\"\"\"\n",
    "\n",
    "# Using datetimes weekday method to get the weekday of our date\n",
    "df['Flags'] = df['Date'].dt.weekday +1 # had to +1 as dt.weekday has days from 0 to 6\n",
    "\n",
    "# Returning the name of the day of week\n",
    "df['Flag_text']= df['Date'].dt.day_name()\n",
    "\n",
    "\"\"\"To further prepare the data, we drop all the rows where there are NULL values in the Speed column\"\"\"\n",
    "df.dropna(subset = ['Speed_mph']);"
   ]
  },
  {
   "cell_type": "code",
   "execution_count": 1,
   "metadata": {},
   "outputs": [
    {
     "ename": "NameError",
     "evalue": "name 'df' is not defined",
     "output_type": "error",
     "traceback": [
      "\u001b[1;31m---------------------------------------------------------------------------\u001b[0m",
      "\u001b[1;31mNameError\u001b[0m                                 Traceback (most recent call last)",
      "\u001b[1;32m<ipython-input-1-55a5aef5ae2f>\u001b[0m in \u001b[0;36m<module>\u001b[1;34m\u001b[0m\n\u001b[0;32m      1\u001b[0m \u001b[1;31m# Filetering the dataframe for North lanes and Tuesdays (value 2 for flags) and for the time between 9:00 - 9:59:59\u001b[0m\u001b[1;33m\u001b[0m\u001b[1;33m\u001b[0m\u001b[1;33m\u001b[0m\u001b[0m\n\u001b[1;32m----> 2\u001b[1;33m \u001b[0mfil_df\u001b[0m \u001b[1;33m=\u001b[0m \u001b[0mdf\u001b[0m\u001b[1;33m.\u001b[0m\u001b[0mloc\u001b[0m\u001b[1;33m[\u001b[0m\u001b[1;33m(\u001b[0m\u001b[0mdf\u001b[0m\u001b[1;33m[\u001b[0m\u001b[1;34m'Direction_name'\u001b[0m\u001b[1;33m]\u001b[0m\u001b[1;33m==\u001b[0m\u001b[1;34m'North'\u001b[0m\u001b[1;33m)\u001b[0m \u001b[1;33m&\u001b[0m \u001b[1;33m(\u001b[0m\u001b[0mdf\u001b[0m\u001b[1;33m[\u001b[0m\u001b[1;34m'Flags'\u001b[0m\u001b[1;33m]\u001b[0m\u001b[1;33m==\u001b[0m\u001b[1;36m2\u001b[0m\u001b[1;33m)\u001b[0m\u001b[1;33m]\u001b[0m\u001b[1;33m\u001b[0m\u001b[1;33m\u001b[0m\u001b[0m\n\u001b[0m\u001b[0;32m      3\u001b[0m \u001b[1;33m\u001b[0m\u001b[0m\n\u001b[0;32m      4\u001b[0m \"\"\"Need to set the index to a datetime index first as otherwise the .betweeen_time() function won't work - \n\u001b[0;32m      5\u001b[0m once the function is performed, we will reset the index with the reset_index() method.\"\"\"\n",
      "\u001b[1;31mNameError\u001b[0m: name 'df' is not defined"
     ]
    }
   ],
   "source": [
    "# Filetering the dataframe for North lanes and Tuesdays (value 2 for flags) and for the time between 9:00 - 9:59:59\n",
    "fil_df = df.loc[(df['Direction_name']=='North') & (df['Flags']==2)]\n",
    "\n",
    "\"\"\"Need to set the index to a datetime index first as otherwise the .betweeen_time() function won't work - \n",
    "once the function is performed, we will reset the index with the reset_index() method.\"\"\"\n",
    "filtered_north= fil_df.set_index('Date').between_time('07:00:00','19:59:59').reset_index()\n",
    "\n",
    "# Now we have a filtered dataframe for the north lanes with all specified conditions\n",
    "filtered_north"
   ]
  },
  {
   "cell_type": "code",
   "execution_count": 436,
   "metadata": {},
   "outputs": [
    {
     "data": {
      "text/html": [
       "<style  type=\"text/css\" >\n",
       "</style><table id=\"T_bb687d1e_49ce_11ed_b8c9_48a472df9392\" ><caption>Measures for speed (in mph) for northbound lanes</caption><thead>    <tr>        <th class=\"blank level0\" ></th>        <th class=\"col_heading level0 col0\" >Range</th>        <th class=\"col_heading level0 col1\" >1st quartile</th>        <th class=\"col_heading level0 col2\" >2nd quartile</th>        <th class=\"col_heading level0 col3\" >3rd quartile</th>        <th class=\"col_heading level0 col4\" >Interquartile range</th>    </tr></thead><tbody>\n",
       "                <tr>\n",
       "                        <th id=\"T_bb687d1e_49ce_11ed_b8c9_48a472df9392level0_row0\" class=\"row_heading level0 row0\" >NB_MID</th>\n",
       "                        <td id=\"T_bb687d1e_49ce_11ed_b8c9_48a472df9392row0_col0\" class=\"data row0 col0\" >98.17</td>\n",
       "                        <td id=\"T_bb687d1e_49ce_11ed_b8c9_48a472df9392row0_col1\" class=\"data row0 col1\" >23.61</td>\n",
       "                        <td id=\"T_bb687d1e_49ce_11ed_b8c9_48a472df9392row0_col2\" class=\"data row0 col2\" >28.58</td>\n",
       "                        <td id=\"T_bb687d1e_49ce_11ed_b8c9_48a472df9392row0_col3\" class=\"data row0 col3\" >32.31</td>\n",
       "                        <td id=\"T_bb687d1e_49ce_11ed_b8c9_48a472df9392row0_col4\" class=\"data row0 col4\" >8.70</td>\n",
       "            </tr>\n",
       "            <tr>\n",
       "                        <th id=\"T_bb687d1e_49ce_11ed_b8c9_48a472df9392level0_row1\" class=\"row_heading level0 row1\" >NB_OS</th>\n",
       "                        <td id=\"T_bb687d1e_49ce_11ed_b8c9_48a472df9392row1_col0\" class=\"data row1 col0\" >60.27</td>\n",
       "                        <td id=\"T_bb687d1e_49ce_11ed_b8c9_48a472df9392row1_col1\" class=\"data row1 col1\" >24.86</td>\n",
       "                        <td id=\"T_bb687d1e_49ce_11ed_b8c9_48a472df9392row1_col2\" class=\"data row1 col2\" >30.45</td>\n",
       "                        <td id=\"T_bb687d1e_49ce_11ed_b8c9_48a472df9392row1_col3\" class=\"data row1 col3\" >34.18</td>\n",
       "                        <td id=\"T_bb687d1e_49ce_11ed_b8c9_48a472df9392row1_col4\" class=\"data row1 col4\" >9.32</td>\n",
       "            </tr>\n",
       "            <tr>\n",
       "                        <th id=\"T_bb687d1e_49ce_11ed_b8c9_48a472df9392level0_row2\" class=\"row_heading level0 row2\" >NB_NS</th>\n",
       "                        <td id=\"T_bb687d1e_49ce_11ed_b8c9_48a472df9392row2_col0\" class=\"data row2 col0\" >57.79</td>\n",
       "                        <td id=\"T_bb687d1e_49ce_11ed_b8c9_48a472df9392row2_col1\" class=\"data row2 col1\" >24.23</td>\n",
       "                        <td id=\"T_bb687d1e_49ce_11ed_b8c9_48a472df9392row2_col2\" class=\"data row2 col2\" >28.58</td>\n",
       "                        <td id=\"T_bb687d1e_49ce_11ed_b8c9_48a472df9392row2_col3\" class=\"data row2 col3\" >31.69</td>\n",
       "                        <td id=\"T_bb687d1e_49ce_11ed_b8c9_48a472df9392row2_col4\" class=\"data row2 col4\" >7.46</td>\n",
       "            </tr>\n",
       "    </tbody></table>"
      ],
      "text/plain": [
       "<pandas.io.formats.style.Styler at 0x1540a211790>"
      ]
     },
     "execution_count": 436,
     "metadata": {},
     "output_type": "execute_result"
    }
   ],
   "source": [
    "\"\"\"Getting all unique lane names of the north lanes. Here is an example where having the renamed columns helped\"\"\" \n",
    "north_lanes = filtered_north.Lane_name.unique()\n",
    "\n",
    "\"\"\" Defining a function that takes each individual lane and direction name as the arguments and outputs the\n",
    " range, 1st,2nd,3rd quartiles and IQR. This function avoids having us to repeat code for every direction lane\"\"\"\n",
    "def each_lane(lane_name,direction):\n",
    "    #Calculating the range\n",
    "    speed_range = (direction.query(\"Lane_name == @lane_name\")['Speed_mph'].max()\n",
    "    -  direction.query(\"Lane_name == @lane_name\")['Speed_mph'].min())\n",
    "    \n",
    "\n",
    "    #Caculating the quartiles\n",
    "    quartiles = direction.query(\"Lane_name == @lane_name\")['Speed_mph'].quantile([0.25,.5,.75])\n",
    "    Q1, Q2, Q3 = quartiles[0.25], quartiles[0.5], quartiles[0.75]\n",
    "\n",
    "\n",
    "    IQR= quartiles[0.75]-quartiles[0.25]\n",
    "    \n",
    "    # For easy readability and organisation, a dataframe will be created for the measures\n",
    "    quartiles_df = pd.DataFrame({'Range':speed_range,'1st quartile':Q1,'2nd quartile':Q2,\n",
    "                                 '3rd quartile':Q3,'Interquartile range':IQR},index=[lane_name])\n",
    "    return quartiles_df\n",
    "\n",
    "\n",
    "\"\"\"The function defined above returns a dataframe for just 1 of the lanes. We need to have a for loop which\n",
    "goes through all the lane names and pass it as a parameter into the function. A simple for loop will \n",
    "produce 3 separate dataframes, this will be concatenated into 1 dataframe which will have all the 3 \n",
    "lanes values in\"\"\"\n",
    "\n",
    "# Looping over the north lane names and concatenating the dataframes together\n",
    "n_dataframes= [] # creating an empty list. This will hold our 3 dataframes produced\n",
    "for i in north_lanes:\n",
    "    n_dataframes.append(each_lane(i,filtered_north))\n",
    "\n",
    "\"\"\"Defining a function that concatenates a list of dataframes. (this will be used for our 3 dataframes \n",
    "above and any other list of dataframes I create)\"\"\"\n",
    "def concat_dfs(dataframes):\n",
    "    quartiles_df= pd.concat(dataframes)\n",
    "    return quartiles_df\n",
    "\n",
    "# To give us a neat table output, I concatenate the dataframes into 1 and set a caption\n",
    "(concat_dfs(n_dataframes)).style.format('{:.2f}').set_caption(\"Measures for speed (in mph) for northbound lanes\")\n"
   ]
  },
  {
   "cell_type": "markdown",
   "metadata": {},
   "source": [
    "# ----------------------------------------------------------------------------------------------------------"
   ]
  },
  {
   "cell_type": "markdown",
   "metadata": {},
   "source": [
    "# 2. Part II.\n",
    "\n"
   ]
  },
  {
   "cell_type": "code",
   "execution_count": 437,
   "metadata": {},
   "outputs": [
    {
     "data": {
      "text/html": [
       "<style  type=\"text/css\" >\n",
       "</style><table id=\"T_bf125055_49ce_11ed_b19b_48a472df9392\" ><caption>Measures for speed (in mph) for southbound lanes</caption><thead>    <tr>        <th class=\"blank level0\" ></th>        <th class=\"col_heading level0 col0\" >Range</th>        <th class=\"col_heading level0 col1\" >1st quartile</th>        <th class=\"col_heading level0 col2\" >2nd quartile</th>        <th class=\"col_heading level0 col3\" >3rd quartile</th>        <th class=\"col_heading level0 col4\" >Interquartile range</th>    </tr></thead><tbody>\n",
       "                <tr>\n",
       "                        <th id=\"T_bf125055_49ce_11ed_b19b_48a472df9392level0_row0\" class=\"row_heading level0 row0\" >SB_NS</th>\n",
       "                        <td id=\"T_bf125055_49ce_11ed_b19b_48a472df9392row0_col0\" class=\"data row0 col0\" >53.44</td>\n",
       "                        <td id=\"T_bf125055_49ce_11ed_b19b_48a472df9392row0_col1\" class=\"data row0 col1\" >30.45</td>\n",
       "                        <td id=\"T_bf125055_49ce_11ed_b19b_48a472df9392row0_col2\" class=\"data row0 col2\" >33.55</td>\n",
       "                        <td id=\"T_bf125055_49ce_11ed_b19b_48a472df9392row0_col3\" class=\"data row0 col3\" >36.66</td>\n",
       "                        <td id=\"T_bf125055_49ce_11ed_b19b_48a472df9392row0_col4\" class=\"data row0 col4\" >6.21</td>\n",
       "            </tr>\n",
       "            <tr>\n",
       "                        <th id=\"T_bf125055_49ce_11ed_b19b_48a472df9392level0_row1\" class=\"row_heading level0 row1\" >SB_MID</th>\n",
       "                        <td id=\"T_bf125055_49ce_11ed_b19b_48a472df9392row1_col0\" class=\"data row1 col0\" >62.76</td>\n",
       "                        <td id=\"T_bf125055_49ce_11ed_b19b_48a472df9392row1_col1\" class=\"data row1 col1\" >31.69</td>\n",
       "                        <td id=\"T_bf125055_49ce_11ed_b19b_48a472df9392row1_col2\" class=\"data row1 col2\" >34.80</td>\n",
       "                        <td id=\"T_bf125055_49ce_11ed_b19b_48a472df9392row1_col3\" class=\"data row1 col3\" >37.90</td>\n",
       "                        <td id=\"T_bf125055_49ce_11ed_b19b_48a472df9392row1_col4\" class=\"data row1 col4\" >6.21</td>\n",
       "            </tr>\n",
       "            <tr>\n",
       "                        <th id=\"T_bf125055_49ce_11ed_b19b_48a472df9392level0_row2\" class=\"row_heading level0 row2\" >SB_OS</th>\n",
       "                        <td id=\"T_bf125055_49ce_11ed_b19b_48a472df9392row2_col0\" class=\"data row2 col0\" >76.43</td>\n",
       "                        <td id=\"T_bf125055_49ce_11ed_b19b_48a472df9392row2_col1\" class=\"data row2 col1\" >32.93</td>\n",
       "                        <td id=\"T_bf125055_49ce_11ed_b19b_48a472df9392row2_col2\" class=\"data row2 col2\" >36.66</td>\n",
       "                        <td id=\"T_bf125055_49ce_11ed_b19b_48a472df9392row2_col3\" class=\"data row2 col3\" >39.77</td>\n",
       "                        <td id=\"T_bf125055_49ce_11ed_b19b_48a472df9392row2_col4\" class=\"data row2 col4\" >6.84</td>\n",
       "            </tr>\n",
       "    </tbody></table>"
      ],
      "text/plain": [
       "<pandas.io.formats.style.Styler at 0x153e65d6ca0>"
      ]
     },
     "execution_count": 437,
     "metadata": {},
     "output_type": "execute_result"
    }
   ],
   "source": [
    "\"\"\"Filetering the dataframe for South lanes and Tuesdays (value 2 for flags) and for the time between 9:00 - 9:59:59\n",
    "(similar to what was explained above)\"\"\" \n",
    "\n",
    "fil2_df = df.loc[(df['Direction_name']=='South') & (df['Flags']==2)]\n",
    "filtered_south= fil2_df.set_index('Date').between_time('09:00:00','09:59:59').reset_index()\n",
    "\n",
    "south_lanes= filtered_south.Lane_name.unique()\n",
    "\n",
    "# Doing the same what we did for the north lane dataframes\n",
    "s_dataframes= []\n",
    "for i in south_lanes:\n",
    "    s_dataframes.append(each_lane(i,filtered_south))\n",
    "\n",
    "# Concatenating the south lane dataframes\n",
    "concat_dfs(s_dataframes).style.format('{:.2f}').set_caption(\"Measures for speed (in mph) for southbound lanes\")\n",
    "\n",
    "# At the bottom, we have each of the southbound lanes and their respective measures for speed"
   ]
  },
  {
   "cell_type": "markdown",
   "metadata": {},
   "source": [
    "# ------------------------------------------------------------------------------------------------------------"
   ]
  },
  {
   "cell_type": "markdown",
   "metadata": {},
   "source": [
    "# 2. Part III.\n"
   ]
  },
  {
   "cell_type": "code",
   "execution_count": 438,
   "metadata": {},
   "outputs": [
    {
     "data": {
      "text/html": [
       "<style  type=\"text/css\" >\n",
       "</style><table id=\"T_c0cc26cf_49ce_11ed_8c33_48a472df9392\" ><caption>Measures for volume for northbound lanes</caption><thead>    <tr>        <th class=\"blank level0\" ></th>        <th class=\"col_heading level0 col0\" >Range</th>        <th class=\"col_heading level0 col1\" >1st quartile</th>        <th class=\"col_heading level0 col2\" >2nd quartile</th>        <th class=\"col_heading level0 col3\" >3rd quartile</th>        <th class=\"col_heading level0 col4\" >Interquartile range</th>    </tr></thead><tbody>\n",
       "                <tr>\n",
       "                        <th id=\"T_c0cc26cf_49ce_11ed_8c33_48a472df9392level0_row0\" class=\"row_heading level0 row0\" >NB_MID</th>\n",
       "                        <td id=\"T_c0cc26cf_49ce_11ed_8c33_48a472df9392row0_col0\" class=\"data row0 col0\" >109.00</td>\n",
       "                        <td id=\"T_c0cc26cf_49ce_11ed_8c33_48a472df9392row0_col1\" class=\"data row0 col1\" >521.00</td>\n",
       "                        <td id=\"T_c0cc26cf_49ce_11ed_8c33_48a472df9392row0_col2\" class=\"data row0 col2\" >586.00</td>\n",
       "                        <td id=\"T_c0cc26cf_49ce_11ed_8c33_48a472df9392row0_col3\" class=\"data row0 col3\" >600.00</td>\n",
       "                        <td id=\"T_c0cc26cf_49ce_11ed_8c33_48a472df9392row0_col4\" class=\"data row0 col4\" >79.00</td>\n",
       "            </tr>\n",
       "            <tr>\n",
       "                        <th id=\"T_c0cc26cf_49ce_11ed_8c33_48a472df9392level0_row1\" class=\"row_heading level0 row1\" >NB_OS</th>\n",
       "                        <td id=\"T_c0cc26cf_49ce_11ed_8c33_48a472df9392row1_col0\" class=\"data row1 col0\" >176.00</td>\n",
       "                        <td id=\"T_c0cc26cf_49ce_11ed_8c33_48a472df9392row1_col1\" class=\"data row1 col1\" >511.25</td>\n",
       "                        <td id=\"T_c0cc26cf_49ce_11ed_8c33_48a472df9392row1_col2\" class=\"data row1 col2\" >604.50</td>\n",
       "                        <td id=\"T_c0cc26cf_49ce_11ed_8c33_48a472df9392row1_col3\" class=\"data row1 col3\" >629.50</td>\n",
       "                        <td id=\"T_c0cc26cf_49ce_11ed_8c33_48a472df9392row1_col4\" class=\"data row1 col4\" >118.25</td>\n",
       "            </tr>\n",
       "            <tr>\n",
       "                        <th id=\"T_c0cc26cf_49ce_11ed_8c33_48a472df9392level0_row2\" class=\"row_heading level0 row2\" >NB_NS</th>\n",
       "                        <td id=\"T_c0cc26cf_49ce_11ed_8c33_48a472df9392row2_col0\" class=\"data row2 col0\" >146.00</td>\n",
       "                        <td id=\"T_c0cc26cf_49ce_11ed_8c33_48a472df9392row2_col1\" class=\"data row2 col1\" >476.50</td>\n",
       "                        <td id=\"T_c0cc26cf_49ce_11ed_8c33_48a472df9392row2_col2\" class=\"data row2 col2\" >497.00</td>\n",
       "                        <td id=\"T_c0cc26cf_49ce_11ed_8c33_48a472df9392row2_col3\" class=\"data row2 col3\" >503.25</td>\n",
       "                        <td id=\"T_c0cc26cf_49ce_11ed_8c33_48a472df9392row2_col4\" class=\"data row2 col4\" >26.75</td>\n",
       "            </tr>\n",
       "    </tbody></table>"
      ],
      "text/plain": [
       "<pandas.io.formats.style.Styler at 0x153803b76a0>"
      ]
     },
     "execution_count": 438,
     "metadata": {},
     "output_type": "execute_result"
    }
   ],
   "source": [
    "# Defining a function that gets the volume of cars every 10 mins (for each direction) and outputs it as a dataframe.\n",
    "def volume_minute(lane_name, direction):\n",
    "    \n",
    "    # After grouping by the minute, I use .unstack to format it from a stacked series to a dataframe\n",
    "    minutes = direction.groupby([direction['Date'].dt.minute,'Lane_name']).size().unstack(level=-1) \n",
    "    # Aggregating the volumes by every 10 minutes instead of every minute\n",
    "    mins= minutes.set_index(minutes.index//10).sum(level=0).reset_index().rename(\n",
    "        columns={'Date': 'Minute (for the hour)'})\n",
    "    \n",
    "    # Specifying intervals for the minutes\n",
    "    new= mins[\"Minute (for the hour)\"].replace({0: \"0-9th\", 1: \"10-19th\",2:\"20-29th\",3:\"30-39th\",4:\"40-49th\",\n",
    "                                                5:\"50-59th\"},inplace=True)\n",
    "    \n",
    "    vol_range = mins[lane_name].max()- mins[lane_name].min()\n",
    "    quartiles = mins[lane_name].quantile([0.25,.5,.75])\n",
    "    Q1, Q2, Q3 = quartiles[0.25], quartiles[0.5], quartiles[0.75]\n",
    "    \n",
    "    IQR = Q3 -Q1\n",
    "    # For easy readability and organisation, a dataframe will be created for the measures\n",
    "    quartiles_df = pd.DataFrame({'Range':vol_range,'1st quartile':Q1,'2nd quartile':Q2,\n",
    "                                 '3rd quartile':Q3,'Interquartile range':IQR},index=[lane_name])\n",
    "    \n",
    "    return quartiles_df\n",
    "\n",
    "# Looping over the north lane names and concatenating the dataframes together\n",
    "nvol_dataframes= [] # creating an empty list. This will hold our 3 dataframes produced\n",
    "for i in north_lanes:\n",
    "    nvol_dataframes.append(volume_minute(i,filtered_north))\n",
    "\n",
    "\n",
    "concat_dfs(nvol_dataframes).style.format('{:.2f}').set_caption(\"Measures for volume for northbound lanes\")\n"
   ]
  },
  {
   "cell_type": "markdown",
   "metadata": {},
   "source": [
    "The traffic volumes for each individual lanes are given above with the statistical measures for each direction given in the dataframe below it."
   ]
  },
  {
   "cell_type": "code",
   "execution_count": 439,
   "metadata": {},
   "outputs": [
    {
     "data": {
      "text/html": [
       "<style  type=\"text/css\" >\n",
       "</style><table id=\"T_c2806519_49ce_11ed_b66a_48a472df9392\" ><caption>Measures for volume for southbound lanes</caption><thead>    <tr>        <th class=\"blank level0\" ></th>        <th class=\"col_heading level0 col0\" >Range</th>        <th class=\"col_heading level0 col1\" >1st quartile</th>        <th class=\"col_heading level0 col2\" >2nd quartile</th>        <th class=\"col_heading level0 col3\" >3rd quartile</th>        <th class=\"col_heading level0 col4\" >Interquartile range</th>    </tr></thead><tbody>\n",
       "                <tr>\n",
       "                        <th id=\"T_c2806519_49ce_11ed_b66a_48a472df9392level0_row0\" class=\"row_heading level0 row0\" >SB_NS</th>\n",
       "                        <td id=\"T_c2806519_49ce_11ed_b66a_48a472df9392row0_col0\" class=\"data row0 col0\" >120.00</td>\n",
       "                        <td id=\"T_c2806519_49ce_11ed_b66a_48a472df9392row0_col1\" class=\"data row0 col1\" >417.25</td>\n",
       "                        <td id=\"T_c2806519_49ce_11ed_b66a_48a472df9392row0_col2\" class=\"data row0 col2\" >425.00</td>\n",
       "                        <td id=\"T_c2806519_49ce_11ed_b66a_48a472df9392row0_col3\" class=\"data row0 col3\" >441.00</td>\n",
       "                        <td id=\"T_c2806519_49ce_11ed_b66a_48a472df9392row0_col4\" class=\"data row0 col4\" >23.75</td>\n",
       "            </tr>\n",
       "            <tr>\n",
       "                        <th id=\"T_c2806519_49ce_11ed_b66a_48a472df9392level0_row1\" class=\"row_heading level0 row1\" >SB_MID</th>\n",
       "                        <td id=\"T_c2806519_49ce_11ed_b66a_48a472df9392row1_col0\" class=\"data row1 col0\" >37.00</td>\n",
       "                        <td id=\"T_c2806519_49ce_11ed_b66a_48a472df9392row1_col1\" class=\"data row1 col1\" >321.25</td>\n",
       "                        <td id=\"T_c2806519_49ce_11ed_b66a_48a472df9392row1_col2\" class=\"data row1 col2\" >323.50</td>\n",
       "                        <td id=\"T_c2806519_49ce_11ed_b66a_48a472df9392row1_col3\" class=\"data row1 col3\" >342.25</td>\n",
       "                        <td id=\"T_c2806519_49ce_11ed_b66a_48a472df9392row1_col4\" class=\"data row1 col4\" >21.00</td>\n",
       "            </tr>\n",
       "            <tr>\n",
       "                        <th id=\"T_c2806519_49ce_11ed_b66a_48a472df9392level0_row2\" class=\"row_heading level0 row2\" >SB_OS</th>\n",
       "                        <td id=\"T_c2806519_49ce_11ed_b66a_48a472df9392row2_col0\" class=\"data row2 col0\" >46.00</td>\n",
       "                        <td id=\"T_c2806519_49ce_11ed_b66a_48a472df9392row2_col1\" class=\"data row2 col1\" >261.75</td>\n",
       "                        <td id=\"T_c2806519_49ce_11ed_b66a_48a472df9392row2_col2\" class=\"data row2 col2\" >270.50</td>\n",
       "                        <td id=\"T_c2806519_49ce_11ed_b66a_48a472df9392row2_col3\" class=\"data row2 col3\" >295.00</td>\n",
       "                        <td id=\"T_c2806519_49ce_11ed_b66a_48a472df9392row2_col4\" class=\"data row2 col4\" >33.25</td>\n",
       "            </tr>\n",
       "    </tbody></table>"
      ],
      "text/plain": [
       "<pandas.io.formats.style.Styler at 0x153803a1f70>"
      ]
     },
     "execution_count": 439,
     "metadata": {},
     "output_type": "execute_result"
    }
   ],
   "source": [
    "# Looping over the north lane names and concatenating the dataframes together\n",
    "svol_dataframes= []\n",
    "for i in south_lanes:\n",
    "    svol_dataframes.append(volume_minute(i,filtered_south))\n",
    "\n",
    "(concat_dfs(svol_dataframes)).style.format('{:.2f}').set_caption(\"Measures for volume for southbound lanes\")"
   ]
  },
  {
   "cell_type": "markdown",
   "metadata": {},
   "source": [
    "# ----------------------------------------------------------------------------------------------------------"
   ]
  },
  {
   "cell_type": "markdown",
   "metadata": {},
   "source": [
    "# 2. Part IV."
   ]
  },
  {
   "cell_type": "markdown",
   "metadata": {},
   "source": [
    "Overall, the traffic volume for the north lanes on Tuesday between our selected time is higher than southbound \n",
    "traffic volume - this suggests more people are travelling up towards the city centre than south. This makes sense considering the time (rush hour) when people are trying to get to work, whereas not many people are going southbound (a higher proportion of peoples workplaces are on the north of Chester road than to the south).\n",
    "\n",
    "We can also observe that the average speeds are much slower in northbound traffic than southbound. This is probably due to high traffic volumes in north lanes. Additionally, nearside (left) NB lanes have less traffic volume than offside (right) lanes, this is probably because drivers want to get to work quickly and try to overtake by going in the right hand lane and staying there. We could also say that a lot of the drivers are staying in the right hand lane due to them needing to take a right turn to get to their workplaces in the city centre. It's also interesting to see how cars in the OS (right) lanes for both north and south have higher quartiles for their speed than any other lanes (MID and NS), which tells us this lane is being used to overtake slower moving traffic in the middle and left lanes. \n",
    "\n",
    "The traffic volume for the SB_OS lane is the least out of all of the lanes and hence the speeds of the SB_OS lane are the highest of all lanes (32.9 mph for 1st quartile and 39.8 mph for 3rd quartile) as cars can travel more freely without having to deal with much congestion.\n",
    "\n",
    "In the northbound lanes, the range for the traffic volume is larger than the range of volume for southbound lanes, meaning traffic is more evenly spread out across the lanes (in the southboundbound lanes) compared to north lanes in 10 minute intervals.\n"
   ]
  },
  {
   "cell_type": "code",
   "execution_count": 414,
   "metadata": {},
   "outputs": [
    {
     "data": {
      "image/png": "[encoded data removed]",
      "text/plain": [
       "<Figure size 648x216 with 3 Axes>"
      ]
     },
     "metadata": {
      "needs_background": "light"
     },
     "output_type": "display_data"
    },
    {
     "data": {
      "image/png": "[encoded data removed]",
      "text/plain": [
       "<Figure size 648x216 with 3 Axes>"
      ]
     },
     "metadata": {
      "needs_background": "light"
     },
     "output_type": "display_data"
    }
   ],
   "source": [
    "\"\"\" Preparing the data for visual analysis\n",
    " Plotting multiple histograms (each for the separate lanes) on  FacetGrid so that it can be easily compared\"\"\"\n",
    "g = sns.FacetGrid(filtered_north,col = 'Lane_name')\n",
    "g.map(sns.histplot,'Speed_mph',kde=True);\n",
    "\n",
    "f = sns.FacetGrid(filtered_south,col = 'Lane_name')\n",
    "f.map(sns.histplot,'Speed_mph',kde=True);\n",
    "\n",
    "#sns.scatterplot(data=filtered_north, x=\"Speed_mph\", y= \"\")"
   ]
  },
  {
   "cell_type": "markdown",
   "metadata": {},
   "source": [
    "Here, we can see a histogram plot for the number of cars travelling at certain speeds. In the north lanes, we can see that there’s a higher volume of cars to the left (lower speeds) than with the soutbound lanes. The southbound lanes are more concentrated to the middle, indicating more consistent speeds (and a less of a range).\n",
    "\n",
    "# ----------------------------------------------------------------------------------------------------------"
   ]
  },
  {
   "cell_type": "markdown",
   "metadata": {},
   "source": [
    "# 2. Part V.\n"
   ]
  },
  {
   "cell_type": "markdown",
   "metadata": {},
   "source": [
    "The NB middle lanes have a much higher range (for speed) than the NB OS and NS lanes indicating less consistent traffic speeds in the middle nortbound lane. This was in difference to the soutbound lanes, where OS lane had least consistent speeds as it had the highest range. Furthermore a range calculation can tell us whether there are any errors in the data. For example, if we find a speed of 200mph on a 30mph road we know there must be an error with how the sensors collected the data or a random value was entered into the dataset somehow. In our case, the max speed between 9AM - 9:59:59 is 99.4 mph which is quite concerning for that time of the day. We would need to verify whether this is an accurate observation or if the sensor had a fault.\n",
    "\n",
    "The 3rd quartile tells us the speed at or below which 75% of all vehicles are travelling at. Its safe to say that 75% of all drivers on north lanes drive below 34mph. This is 4mph above the speed limit for built up areas, but is not uncommon during everyday driving.\n",
    "\n",
    "The interquartile range tells us how much variability there is around the median. With the north lanes, the speeds have a higher variability around the median for all the lanes compared to the south lanes. This further shows us that average traffic speeds vary hugely in the northbound lanes which could be due to cars stuck in traffic travelling at speeds less than 3mph and at times when traffic clears cars can travel at their usual speeds. It's different for the south lanes as there's less volume of traffic and so there'll be almost no cars travelling at 3mph or less.\n",
    "\n",
    "# -----------------------------------------------------------------------------------------------------------"
   ]
  },
  {
   "cell_type": "markdown",
   "metadata": {},
   "source": [
    "# 2. Part VI\n"
   ]
  },
  {
   "cell_type": "markdown",
   "metadata": {},
   "source": [
    "With further analysis, we could find out at what minute of the hour are cars travelling at speeds of above 40mph and compare it to the volume at that particular minute.\n",
    "\n",
    "The range is sensitive to outliers and so does not provide an accurate representation of the dataset as it misses out lots of the observations in the dataset. The range does not even tell us the minimum and maximum values of the speed, simply the difference between this.\n",
    "\n",
    "With the quartiles, we cannot calculate the mean speeds and hence can't calculate the variance. Sure, we have the Interquartile range to measure variability, but because it cannot be mathematically manipulated, interquartile range as a measure of variance has a major drawback.\n",
    "# ----------------------------------------------------------------------------------------------------------"
   ]
  },
  {
   "cell_type": "markdown",
   "metadata": {},
   "source": [
    "# 2. Part VII.\n"
   ]
  },
  {
   "cell_type": "markdown",
   "metadata": {},
   "source": [
    "Question answered through comments explaining the data preparation steps and reasoning. Can be found throughout the code.\n",
    "# ----------------------------------------------------------------------------------------------------------"
   ]
  },
  {
   "cell_type": "markdown",
   "metadata": {},
   "source": [
    "# 2. Part VIII.\n"
   ]
  },
  {
   "cell_type": "markdown",
   "metadata": {},
   "source": [
    "- Firstly, to help in measuring execution time of my code, I could've used the timeit function to check how much time each part of the program takes to run.\n",
    "\n",
    "- I could have optimised my code by defining and using more functions with local variables instead of having too many global variables. For example, when creating the filtered dataframes for north and south lanes, I had to create 4 global variables. I could have made 1 function that'd take in 1 argument (e.g the direction) and output the dataframe for the respective direction.\n",
    "\n",
    "\n",
    "- To make the for loop part of my code work faster, I could've used list comprehensions instead of appending values to a list. (E.g when I calculated the volume of each lane and appended it to a list).\n",
    "\n",
    "\n",
    "- To improve memory, I could’ve used more memory efficient data types. For float data types, such as the speed, I could convert it into float32 instead of it being float64 as the 32 bit option uses half the memory than the 64 bit option.\n",
    "\n",
    "\n",
    "- Additionally, I could’ve only imported the specific rows that I needed in my pipeline as 4 of the columns from the dataset wasn’t used. During import of the data with .read_csv() I could’ve added a usecols parameter and specified the specific columns that were needed. This could reduce the memory that's being used\n",
    "\n",
    "\n",
    "- When importing modules at the top, to save on memory I couldve imported only the methods/functions that I would be using. Theres no point in importing the full module with 20+ functions when I'm only going to use a few, example: I couldve done from csv import read_csv\n",
    "\n",
    "# ----------------------------------------------------------------------------------------------------------\n"
   ]
  },
  {
   "cell_type": "markdown",
   "metadata": {},
   "source": [
    "# Task 3\n",
    "# Part I."
   ]
  },
  {
   "cell_type": "code",
   "execution_count": 430,
   "metadata": {},
   "outputs": [
    {
     "data": {
      "text/html": [
       "<style  type=\"text/css\" >\n",
       "</style><table id=\"T_cb3ba760_49c3_11ed_9197_48a472df9392\" ><caption>The average traffic volume per hour of the day</caption><thead>    <tr>        <th class=\"col_heading level0 col0\" >Time</th>        <th class=\"col_heading level0 col1\" >Friday</th>        <th class=\"col_heading level0 col2\" >Tuesday</th>    </tr></thead><tbody>\n",
       "                <tr>\n",
       "                                <td id=\"T_cb3ba760_49c3_11ed_9197_48a472df9392row0_col0\" class=\"data row0 col0\" >7.00</td>\n",
       "                        <td id=\"T_cb3ba760_49c3_11ed_9197_48a472df9392row0_col1\" class=\"data row0 col1\" >4806.25</td>\n",
       "                        <td id=\"T_cb3ba760_49c3_11ed_9197_48a472df9392row0_col2\" class=\"data row0 col2\" >4966.50</td>\n",
       "            </tr>\n",
       "            <tr>\n",
       "                                <td id=\"T_cb3ba760_49c3_11ed_9197_48a472df9392row1_col0\" class=\"data row1 col0\" >8.00</td>\n",
       "                        <td id=\"T_cb3ba760_49c3_11ed_9197_48a472df9392row1_col1\" class=\"data row1 col1\" >4773.00</td>\n",
       "                        <td id=\"T_cb3ba760_49c3_11ed_9197_48a472df9392row1_col2\" class=\"data row1 col2\" >4862.00</td>\n",
       "            </tr>\n",
       "            <tr>\n",
       "                                <td id=\"T_cb3ba760_49c3_11ed_9197_48a472df9392row2_col0\" class=\"data row2 col0\" >9.00</td>\n",
       "                        <td id=\"T_cb3ba760_49c3_11ed_9197_48a472df9392row2_col1\" class=\"data row2 col1\" >3896.75</td>\n",
       "                        <td id=\"T_cb3ba760_49c3_11ed_9197_48a472df9392row2_col2\" class=\"data row2 col2\" >3978.50</td>\n",
       "            </tr>\n",
       "            <tr>\n",
       "                                <td id=\"T_cb3ba760_49c3_11ed_9197_48a472df9392row3_col0\" class=\"data row3 col0\" >10.00</td>\n",
       "                        <td id=\"T_cb3ba760_49c3_11ed_9197_48a472df9392row3_col1\" class=\"data row3 col1\" >3284.50</td>\n",
       "                        <td id=\"T_cb3ba760_49c3_11ed_9197_48a472df9392row3_col2\" class=\"data row3 col2\" >3178.75</td>\n",
       "            </tr>\n",
       "            <tr>\n",
       "                                <td id=\"T_cb3ba760_49c3_11ed_9197_48a472df9392row4_col0\" class=\"data row4 col0\" >11.00</td>\n",
       "                        <td id=\"T_cb3ba760_49c3_11ed_9197_48a472df9392row4_col1\" class=\"data row4 col1\" >3517.75</td>\n",
       "                        <td id=\"T_cb3ba760_49c3_11ed_9197_48a472df9392row4_col2\" class=\"data row4 col2\" >3177.75</td>\n",
       "            </tr>\n",
       "            <tr>\n",
       "                                <td id=\"T_cb3ba760_49c3_11ed_9197_48a472df9392row5_col0\" class=\"data row5 col0\" >12.00</td>\n",
       "                        <td id=\"T_cb3ba760_49c3_11ed_9197_48a472df9392row5_col1\" class=\"data row5 col1\" >3869.25</td>\n",
       "                        <td id=\"T_cb3ba760_49c3_11ed_9197_48a472df9392row5_col2\" class=\"data row5 col2\" >3408.00</td>\n",
       "            </tr>\n",
       "            <tr>\n",
       "                                <td id=\"T_cb3ba760_49c3_11ed_9197_48a472df9392row6_col0\" class=\"data row6 col0\" >13.00</td>\n",
       "                        <td id=\"T_cb3ba760_49c3_11ed_9197_48a472df9392row6_col1\" class=\"data row6 col1\" >3949.50</td>\n",
       "                        <td id=\"T_cb3ba760_49c3_11ed_9197_48a472df9392row6_col2\" class=\"data row6 col2\" >3457.00</td>\n",
       "            </tr>\n",
       "            <tr>\n",
       "                                <td id=\"T_cb3ba760_49c3_11ed_9197_48a472df9392row7_col0\" class=\"data row7 col0\" >14.00</td>\n",
       "                        <td id=\"T_cb3ba760_49c3_11ed_9197_48a472df9392row7_col1\" class=\"data row7 col1\" >4206.75</td>\n",
       "                        <td id=\"T_cb3ba760_49c3_11ed_9197_48a472df9392row7_col2\" class=\"data row7 col2\" >3634.00</td>\n",
       "            </tr>\n",
       "            <tr>\n",
       "                                <td id=\"T_cb3ba760_49c3_11ed_9197_48a472df9392row8_col0\" class=\"data row8 col0\" >15.00</td>\n",
       "                        <td id=\"T_cb3ba760_49c3_11ed_9197_48a472df9392row8_col1\" class=\"data row8 col1\" >4669.00</td>\n",
       "                        <td id=\"T_cb3ba760_49c3_11ed_9197_48a472df9392row8_col2\" class=\"data row8 col2\" >4286.75</td>\n",
       "            </tr>\n",
       "            <tr>\n",
       "                                <td id=\"T_cb3ba760_49c3_11ed_9197_48a472df9392row9_col0\" class=\"data row9 col0\" >16.00</td>\n",
       "                        <td id=\"T_cb3ba760_49c3_11ed_9197_48a472df9392row9_col1\" class=\"data row9 col1\" >5362.00</td>\n",
       "                        <td id=\"T_cb3ba760_49c3_11ed_9197_48a472df9392row9_col2\" class=\"data row9 col2\" >5430.25</td>\n",
       "            </tr>\n",
       "            <tr>\n",
       "                                <td id=\"T_cb3ba760_49c3_11ed_9197_48a472df9392row10_col0\" class=\"data row10 col0\" >17.00</td>\n",
       "                        <td id=\"T_cb3ba760_49c3_11ed_9197_48a472df9392row10_col1\" class=\"data row10 col1\" >5149.00</td>\n",
       "                        <td id=\"T_cb3ba760_49c3_11ed_9197_48a472df9392row10_col2\" class=\"data row10 col2\" >5449.75</td>\n",
       "            </tr>\n",
       "            <tr>\n",
       "                                <td id=\"T_cb3ba760_49c3_11ed_9197_48a472df9392row11_col0\" class=\"data row11 col0\" >18.00</td>\n",
       "                        <td id=\"T_cb3ba760_49c3_11ed_9197_48a472df9392row11_col1\" class=\"data row11 col1\" >3853.00</td>\n",
       "                        <td id=\"T_cb3ba760_49c3_11ed_9197_48a472df9392row11_col2\" class=\"data row11 col2\" >4452.00</td>\n",
       "            </tr>\n",
       "            <tr>\n",
       "                                <td id=\"T_cb3ba760_49c3_11ed_9197_48a472df9392row12_col0\" class=\"data row12 col0\" >19.00</td>\n",
       "                        <td id=\"T_cb3ba760_49c3_11ed_9197_48a472df9392row12_col1\" class=\"data row12 col1\" >2770.00</td>\n",
       "                        <td id=\"T_cb3ba760_49c3_11ed_9197_48a472df9392row12_col2\" class=\"data row12 col2\" >2910.00</td>\n",
       "            </tr>\n",
       "            <tr>\n",
       "                                <td id=\"T_cb3ba760_49c3_11ed_9197_48a472df9392row13_col0\" class=\"data row13 col0\" >20.00</td>\n",
       "                        <td id=\"T_cb3ba760_49c3_11ed_9197_48a472df9392row13_col1\" class=\"data row13 col1\" >2024.25</td>\n",
       "                        <td id=\"T_cb3ba760_49c3_11ed_9197_48a472df9392row13_col2\" class=\"data row13 col2\" >1963.00</td>\n",
       "            </tr>\n",
       "            <tr>\n",
       "                                <td id=\"T_cb3ba760_49c3_11ed_9197_48a472df9392row14_col0\" class=\"data row14 col0\" >21.00</td>\n",
       "                        <td id=\"T_cb3ba760_49c3_11ed_9197_48a472df9392row14_col1\" class=\"data row14 col1\" >1522.00</td>\n",
       "                        <td id=\"T_cb3ba760_49c3_11ed_9197_48a472df9392row14_col2\" class=\"data row14 col2\" >1495.75</td>\n",
       "            </tr>\n",
       "            <tr>\n",
       "                                <td id=\"T_cb3ba760_49c3_11ed_9197_48a472df9392row15_col0\" class=\"data row15 col0\" >22.00</td>\n",
       "                        <td id=\"T_cb3ba760_49c3_11ed_9197_48a472df9392row15_col1\" class=\"data row15 col1\" >1398.00</td>\n",
       "                        <td id=\"T_cb3ba760_49c3_11ed_9197_48a472df9392row15_col2\" class=\"data row15 col2\" >1066.50</td>\n",
       "            </tr>\n",
       "            <tr>\n",
       "                                <td id=\"T_cb3ba760_49c3_11ed_9197_48a472df9392row16_col0\" class=\"data row16 col0\" >23.00</td>\n",
       "                        <td id=\"T_cb3ba760_49c3_11ed_9197_48a472df9392row16_col1\" class=\"data row16 col1\" >1041.25</td>\n",
       "                        <td id=\"T_cb3ba760_49c3_11ed_9197_48a472df9392row16_col2\" class=\"data row16 col2\" >587.50</td>\n",
       "            </tr>\n",
       "    </tbody></table>"
      ],
      "text/plain": [
       "<pandas.io.formats.style.Styler at 0x1538d188670>"
      ]
     },
     "execution_count": 430,
     "metadata": {},
     "output_type": "execute_result"
    }
   ],
   "source": [
    "\"\"\"Obtaining all rows where the time is between 7AM - 23:59:59 using the between_time() function. \n",
    "Since I'm using thisI need to set the Date column as the index first. Then I reset the index to \n",
    "its default.\"\"\" \n",
    "df_t= df.set_index('Date').between_time('07:00:00','23:59:59').reset_index()\n",
    "\n",
    "\n",
    "\"\"\"I do some data transformation by grouping hours in the date column and calculate vehicle volume \n",
    "per hour - I use the dt.hour method to get the hour out of the datetime object and then group it \n",
    "by the hour and flag_text (the weekday). Afterwards, the volume is calculated with .size() and is divided\n",
    "by the number of weekdays for Tuesday and Friday in the in the month (4 for each). The formation of the\n",
    "data is changed again (using .unstack) so that it can meet analytics requirements (for easy csv conversion \n",
    "and graphing capabilities).\"\"\"\n",
    "\n",
    "vol= (df_t.groupby([df_t['Date'].dt.hour,'Flag_text']).size()/4).unstack(level=1).reset_index()\n",
    "# Now the data is in a format that we can easily visualise or export\n",
    "\n",
    "# Renaming the column 'Date' to 'Time'\n",
    "avg_vol= vol.rename(columns={'Date': 'Time'})\n",
    "\n",
    "# Since I can't remove an index, it will be hidden to make the table look more neat.\n",
    "avg_vol.style.hide_index().format('{:.2f}').set_caption('The average traffic volume per hour of the day')\n"
   ]
  },
  {
   "cell_type": "markdown",
   "metadata": {},
   "source": [
    "The average traffic volume per hour of the day for Tuesday and Friday where 7:00 is the 7th hour (7:00:00-7:59:59) and 23:00 is the 23rd hour (23:00:00-23:59:59)"
   ]
  },
  {
   "cell_type": "markdown",
   "metadata": {},
   "source": [
    "## 3. Part II."
   ]
  },
  {
   "cell_type": "code",
   "execution_count": 384,
   "metadata": {},
   "outputs": [
    {
     "data": {
      "image/png": "[encoded data removed]",
      "text/plain": [
       "<Figure size 720x576 with 1 Axes>"
      ]
     },
     "metadata": {
      "needs_background": "light"
     },
     "output_type": "display_data"
    }
   ],
   "source": [
    "\"\"\"Now, some data profiling in the form of visualisations\"\"\"\n",
    "\n",
    "# Plotting a line plot for the average traffic volume per hour of the day for both Tuesday and Friday\n",
    "avg_vol.plot(y=[\"Tuesday\",\"Friday\"], x=\"Time\", kind=\"line\", figsize=(10, 8),\n",
    "             title='Line plot for the average traffic volume per hour of the day');\n"
   ]
  },
  {
   "cell_type": "code",
   "execution_count": 379,
   "metadata": {},
   "outputs": [
    {
     "data": {
      "image/png": "[encoded data removed]",
      "text/plain": [
       "<Figure size 432x288 with 1 Axes>"
      ]
     },
     "metadata": {
      "needs_background": "light"
     },
     "output_type": "display_data"
    }
   ],
   "source": [
    "# Creating a barchart for the per hour average volume for Tuesdays\n",
    "ax = sns.barplot(data=avg_vol,x=\"Time\",y=\"Tuesday\", color='#4473C5');\n",
    "ax.set_title('Average volume per hour of the day for Tuesday');"
   ]
  },
  {
   "cell_type": "code",
   "execution_count": 380,
   "metadata": {},
   "outputs": [
    {
     "data": {
      "image/png": "[encoded data removed]",
      "text/plain": [
       "<Figure size 432x288 with 1 Axes>"
      ]
     },
     "metadata": {
      "needs_background": "light"
     },
     "output_type": "display_data"
    }
   ],
   "source": [
    "# Creating a barchart for the per hour average volume for Fridays\n",
    "ax1 = sns.barplot(data=avg_vol,x=\"Time\",y=\"Friday\", color='#FFA500');\n",
    "ax1.set_title('Average volume per hour of the day for Friday');\n"
   ]
  },
  {
   "cell_type": "markdown",
   "metadata": {},
   "source": [
    "#### Tuesdays traffic volume analysis\n",
    "The average traffic volume for Tuesday is its highest during 5-6pm which is expected as its rush hour. We can note that it is not equivalent to the traffic volume in the morning rush hour (8-9am). Infact the local maximum for the morning rush hours is between 7-8am\n",
    "We can propose that people come into work/school at staggered times e.g between the times of 7 - 10am, whereas people travel home more or less at the same time (5-6) during the evening rush hours. \n",
    "The 23rd hour showed the least amount of volume. This comes at no surprise, however its interesting to note that on Friday, the volumes at the 22nd and 23rd hour of the day are higher than Tuesdays for the same time. This is probably due to people going out on Friday nights as its the end of the week.\n",
    "\n",
    "#### Fridays traffic volume analysis\n",
    "On Friday, the busiest time of the day was between 4-5pm, indicating people leaving their work places earlier than usual (like on Tuesday). The local maxima still seems to be 7-8am for the morning rush hours. In the mornings, the least busiest hour is 10-11am\n",
    "\n",
    "#### Evaluation and comparison between the 2 days\n",
    "When the day starts (at 7) the traffic volume is higher on Tuesdays than on Fridays. This changes at 10am when the traffic volume for Tuesdays dips below the volume we see for Fridays.\n",
    "Fridays traffic volume then stays higher than Tuesdays until 4pm, when the volume increases and stays pretty much the same level between 4-5:30pm. Both of the days traffic volumes drop significantly after 6pm. One interesting observation to note is how the traffic volume is higher for Fridays during non-rush hours than Tuesdays' non-rush hours, but in the rush hours, Tuesdays average traffic volume comes out on top. The average volume per hour has less of a range on Fridays than on Tuesdays. We can also observe through the barcharts how the Fridays traffic volume is more consistent throughout the day than Tuesdays."
   ]
  },
  {
   "cell_type": "markdown",
   "metadata": {},
   "source": [
    "# 3. Part III.\n",
    "\n",
    "- On top of calculating the mean (average) a novice data analyst could also calculate the median of the volume.\n",
    "The median would be useful as it is not affected by extreme values, such as the range is. It provides us a measure of the centre of the volume data. A data analyst can use it in combination with the mean to get an idea of the distribution of the volumes per hour. For example, if it is found that the median is almost the same as the mean, then it can be said that the volumes in the dataset are roughly distributed evenly from the lowest volume to the greatest volume.\n",
    "\n",
    "\n",
    "\n",
    "- The median can be compared for both of the days to check on which day the traffic volume is most evenly distributed. As it stands currently, just by visualising we can see that the volume on Friday seems to be more evenly distributed, but it'd be good to have it actually calculated.\n",
    "\n",
    "\n",
    "- The mode could also be calculated, although since there are pretty much 0 chance of there being exactly the same volume in a particular hour, a range of volumes can be made and then a mode can be calculated to see which range of volumes is the most common. For example there can be a range between 20000 - 21000 and it can be seen over different days that this range of volume is most common in the hours of 4-6pm.\n",
    "\n",
    "\n",
    "- Additionally, the standard deviation can also be found out (once the analyst has the mean). This will tell them about how dispersed the data is compared to the mean (average). A low standard deviation will indicate more of the data being clustered near the mean, whereas a high standard deviation will tell us the data is more spread out in relation to the mean. Our observation from part II. (where it was stated that Fridays volume seemed more consistent) can be confirmed if the standard deviation is calculated for both of the days.\n"
   ]
  },
  {
   "cell_type": "markdown",
   "metadata": {},
   "source": [
    "# 3. Part IV.\n",
    "Comments and descriptions about data preparation can be found in this PDF near each line of code"
   ]
  }
 ],
 "metadata": {
  "kernelspec": {
   "display_name": "Python 3",
   "language": "python",
   "name": "python3"
  },
  "language_info": {
   "codemirror_mode": {
    "name": "ipython",
    "version": 3
   },
   "file_extension": ".py",
   "mimetype": "text/x-python",
   "name": "python",
   "nbconvert_exporter": "python",
   "pygments_lexer": "ipython3",
   "version": "3.8.3"
  }
 },
 "nbformat": 4,
 "nbformat_minor": 4
}
